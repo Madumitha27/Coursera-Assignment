{
 "cells": [
  {
   "cell_type": "markdown",
   "id": "c0f29108",
   "metadata": {},
   "source": [
    "# Data Science Tools and Ecosystem"
   ]
  },
  {
   "cell_type": "markdown",
   "id": "3022a9d4",
   "metadata": {},
   "source": [
    "### In this notebook, Data Science Tools and Ecosystem are summarized."
   ]
  },
  {
   "cell_type": "markdown",
   "id": "51743e0d",
   "metadata": {},
   "source": [
    "##### Some of the popular languages that Data Scientists use are:\n",
    "1. Python\n",
    "2. R\n",
    "3. Ruby\n",
    "4. Scala\n",
    "5. SQL\n",
    "6. Julia"
   ]
  },
  {
   "cell_type": "markdown",
   "id": "96b2ac1f",
   "metadata": {},
   "source": [
    "#### Some of the commonly used libraries used by Data Scientists include:\n",
    "1. Pandas\n",
    "2. Numpy\n",
    "3. Matplotlib\n",
    "4. Seaborn"
   ]
  },
  {
   "cell_type": "markdown",
   "id": "27bca0c6",
   "metadata": {},
   "source": [
    "|Data Science Tools        |\n",
    "|--------------------------|\n",
    "| Jupyter Notebook         |\n",
    "| Power BI                 |\n",
    "| Tableau                  |\n"
   ]
  },
  {
   "cell_type": "markdown",
   "id": "9e9db27d",
   "metadata": {},
   "source": [
    "### Below are a few examples of evaluating arithmetic expressions in Python\n",
    "###### 1.Addition\n",
    "res=2+3       #res= 5\n",
    "\n",
    "###### 2.Subtraction\n",
    "res=4-2       #res= 2\n",
    "\n",
    "###### 3.Mutliplication\n",
    "res=4*6       #res= 24\n",
    "\n",
    "###### 4.Floor Division\n",
    "res=8//2      #res= 4 \n",
    "\n",
    "###### 5.Division\n",
    "res=8/2       #res= 2.0\n",
    "\n",
    "###### 6.Modulo\n",
    "res=11%2      #res= 1"
   ]
  },
  {
   "cell_type": "code",
   "execution_count": 1,
   "id": "e0b27055",
   "metadata": {},
   "outputs": [
    {
     "data": {
      "text/plain": [
       "17"
      ]
     },
     "execution_count": 1,
     "metadata": {},
     "output_type": "execute_result"
    }
   ],
   "source": [
    "#This a simple arithmetic expression to mutiply then add integers\n",
    "\n",
    "res=(3*4)+5\n",
    "res"
   ]
  },
  {
   "cell_type": "code",
   "execution_count": 6,
   "id": "9c123147",
   "metadata": {},
   "outputs": [
    {
     "name": "stdout",
     "output_type": "stream",
     "text": [
      "3 hours 20 minutes \n",
      "or\n",
      "3.3333333333333335 hours\n"
     ]
    }
   ],
   "source": [
    "#This will convert 200 minutes to hours by dividing by 60\n",
    "minutes=200\n",
    "hour= 200//60\n",
    "mins= 200%60\n",
    "hours= 200/60\n",
    "print(f\"{hour} hours {mins} minutes \\nor\\n{hours} hours\")\n",
    "\n"
   ]
  },
  {
   "cell_type": "markdown",
   "id": "6a4360c6",
   "metadata": {},
   "source": [
    "### Objectives:\n",
    "- List popular languages for data science\n",
    "- List popular data science libraries\n",
    "- Create a table to list popular tools used for data science\n",
    "- List the arithmetic expressions in python\n",
    "- Evaluate arithmetic expression using python\n",
    "- Convert minutes to hours in python"
   ]
  },
  {
   "cell_type": "markdown",
   "id": "16400779",
   "metadata": {},
   "source": [
    "## Author\n",
    "Madumitha S"
   ]
  }
 ],
 "metadata": {
  "kernelspec": {
   "display_name": "Python 3 (ipykernel)",
   "language": "python",
   "name": "python3"
  },
  "language_info": {
   "codemirror_mode": {
    "name": "ipython",
    "version": 3
   },
   "file_extension": ".py",
   "mimetype": "text/x-python",
   "name": "python",
   "nbconvert_exporter": "python",
   "pygments_lexer": "ipython3",
   "version": "3.11.3"
  }
 },
 "nbformat": 4,
 "nbformat_minor": 5
}
